{
  "nbformat": 4,
  "nbformat_minor": 0,
  "metadata": {
    "colab": {
      "provenance": [],
      "authorship_tag": "ABX9TyMupRrodCpJqozTRsGkBZuh",
      "include_colab_link": true
    },
    "kernelspec": {
      "name": "python3",
      "display_name": "Python 3"
    },
    "language_info": {
      "name": "python"
    }
  },
  "cells": [
    {
      "cell_type": "markdown",
      "metadata": {
        "id": "view-in-github",
        "colab_type": "text"
      },
      "source": [
        "<a href=\"https://colab.research.google.com/github/ldwonny/LAB2_03/blob/main/%EC%BD%94%EB%9E%A9_%EC%82%AC%EC%9A%A9%EB%B2%95.ipynb\" target=\"_parent\"><img src=\"https://colab.research.google.com/assets/colab-badge.svg\" alt=\"Open In Colab\"/></a>"
      ]
    },
    {
      "cell_type": "code",
      "execution_count": null,
      "metadata": {
        "id": "P5ybbsL-0O-J"
      },
      "outputs": [],
      "source": []
    },
    {
      "cell_type": "markdown",
      "source": [
        "# 대제목"
      ],
      "metadata": {
        "id": "NOkVDCmn01_j"
      }
    },
    {
      "cell_type": "markdown",
      "source": [
        "## 중제목"
      ],
      "metadata": {
        "id": "_iZ_cGBX03J1"
      }
    },
    {
      "cell_type": "markdown",
      "source": [
        "### 소제목"
      ],
      "metadata": {
        "id": "QavcG11Z03Si"
      }
    },
    {
      "cell_type": "code",
      "source": [],
      "metadata": {
        "id": "F832GDFw0_c3"
      },
      "execution_count": null,
      "outputs": []
    }
  ]
}